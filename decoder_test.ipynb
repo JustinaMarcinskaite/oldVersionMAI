{
 "cells": [
  {
   "cell_type": "code",
   "execution_count": null,
   "metadata": {
    "collapsed": false
   },
   "outputs": [],
   "source": [
    "import numpy as np\n",
    "import os\n",
    "import tensorflow as tf\n",
    "\n",
    "import multiprocessing as mp\n",
    "import gym\n",
    "import gym.spaces #TODO: remove this (only used to suppress warning\n",
    "\n",
    "import scipy.ndimage\n",
    "import matplotlib.pyplot as plt\n",
    "\n",
    "import gym_utils\n",
    "import data_utils\n",
    "\n",
    "\n",
    "import data_utils\n",
    "from exp_parameters import ExpParam\n",
    "from train_vision import create_or_load_vae\n"
   ]
  },
  {
   "cell_type": "code",
   "execution_count": null,
   "metadata": {
    "collapsed": false
   },
   "outputs": [],
   "source": [
    "print(\"Load test - Begin.\")\n",
    "file_name = 'Breakout_latent_train_0000'\n",
    "data_path = './data/' + file_name + '.h5'\n",
    "print(data_path)\n",
    "data = data_utils.load_h5_as_list(data_path)\n",
    "z, _, action, reward, done = data"
   ]
  },
  {
   "cell_type": "code",
   "execution_count": null,
   "metadata": {
    "collapsed": false
   },
   "outputs": [],
   "source": [
    "### Settings\n",
    "model_name = 'breakout_discrete_BLM64_STD0_LAT4096(2)_MADE1542950766'\n",
    "\n",
    "latent = [[32*128, 2]]\n",
    "raw_dim = (210, 160, 3)\n",
    "net_dim = (32*4, 32*3, 3)\n",
    "\n",
    "\n",
    "### Do stuff\n",
    "exp_param = ExpParam(\n",
    "    lat_type=\"discrete\",\n",
    "    dataset='breakout',\n",
    "    latent=latent,\n",
    "    raw_type=tf.uint8,\n",
    "    raw_dim=raw_dim,\n",
    "    net_dim=net_dim,  # very close to org aspect ration\n",
    ")\n",
    "\n",
    "### Load model\n",
    "model_path = 'saved_model/'\n",
    "model_path += model_name\n",
    "\n",
    "sess, network, _ = create_or_load_vae(model_path, exp_param=exp_param, critical_load=True)"
   ]
  },
  {
   "cell_type": "code",
   "execution_count": null,
   "metadata": {
    "collapsed": true
   },
   "outputs": [],
   "source": [
    "### Encode data\n",
    "print('\\tEncoding...')\n",
    "reconstruction = sess.run([network.z, network.latent_var], feed_dict={\n",
    "    network.raw_input: obs,\n",
    "    network.mask_in: obs_mask,\n",
    "    network.is_training: False\n",
    "})\n"
   ]
  },
  {
   "cell_type": "code",
   "execution_count": null,
   "metadata": {
    "collapsed": true
   },
   "outputs": [],
   "source": []
  }
 ],
 "metadata": {
  "anaconda-cloud": {},
  "kernelspec": {
   "display_name": "Python [default]",
   "language": "python",
   "name": "python3"
  },
  "language_info": {
   "codemirror_mode": {
    "name": "ipython",
    "version": 3
   },
   "file_extension": ".py",
   "mimetype": "text/x-python",
   "name": "python",
   "nbconvert_exporter": "python",
   "pygments_lexer": "ipython3",
   "version": "3.5.5"
  }
 },
 "nbformat": 4,
 "nbformat_minor": 1
}
