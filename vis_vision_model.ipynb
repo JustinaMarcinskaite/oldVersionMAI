{
 "cells": [
  {
   "cell_type": "code",
   "execution_count": null,
   "metadata": {
    "collapsed": false
   },
   "outputs": [],
   "source": [
    "import numpy as np\n",
    "import tensorflow as tf\n",
    "import gym\n",
    "import matplotlib.pyplot as plt\n",
    "from IPython.display import clear_output\n",
    "\n",
    "import gym_utils\n",
    "from gen_raw_data import generate_action\n",
    "\n",
    "import data_utils\n",
    "from exp_parameters import ExpParam\n",
    "from train_vision import create_or_load_vae"
   ]
  },
  {
   "cell_type": "code",
   "execution_count": null,
   "metadata": {
    "collapsed": false
   },
   "outputs": [],
   "source": [
    "################## SETTINGS #####################\n",
    "raw_dim = (210, 160, 3)\n",
    "net_dim = (32*4, 32*3, 3)\n",
    "\n",
    "x = 0\n",
    "std = 0.375\n",
    "\n",
    "exp_param = ExpParam(\n",
    "    lat_type=\"discrete\",\n",
    "    dataset='breakout',\n",
    "    name_prefix='_BLM'+str(x)+'_STD'+str(std),\n",
    "    latent=[[32*128, 2]],\n",
    "    raw_type=tf.uint8,\n",
    "    raw_dim=raw_dim,\n",
    "    net_dim=net_dim,  # very close to org aspect ration\n",
    "    g_std=std,\n",
    "    learning_rate=0.001,\n",
    "    rec_loss_multiplier=x,\n",
    "    max_example=5e6,\n",
    "    batch_size=256,  # for testing\n",
    ")\n",
    "\n",
    "data_set = exp_param.dataset\n",
    "batch_size = exp_param.batch_size\n",
    "\n",
    "print(exp_param.g_std)\n",
    "print(exp_param.g_size)\n",
    "\n"
   ]
  },
  {
   "cell_type": "code",
   "execution_count": null,
   "metadata": {
    "collapsed": false
   },
   "outputs": [],
   "source": [
    "\n",
    "### DATA\n",
    "train_iter, test_iter = data_utils.load_data(batch_size, data_set, 256)\n",
    "ball_col = data_utils.ball_col\n",
    "ball_loss_multiplier = exp_param.rec_loss_multiplier\n"
   ]
  },
  {
   "cell_type": "code",
   "execution_count": null,
   "metadata": {
    "collapsed": false
   },
   "outputs": [],
   "source": [
    "### GENERAL SETUP\n",
    "try:\n",
    "    sess.close()\n",
    "except:\n",
    "    pass\n",
    "\n",
    "model_path = 'saved_model/'\n",
    "model_path += 'breakout_discrete_BLM64_STD0_LAT4096(2)_MADE1542950766'\n",
    "\n",
    "### NETWORK\n",
    "sess, network, saver = create_or_load_vae(model_path, exp_param=exp_param)\n",
    "# tf.global_variables_initializer().run()\n"
   ]
  },
  {
   "cell_type": "code",
   "execution_count": null,
   "metadata": {
    "collapsed": true
   },
   "outputs": [],
   "source": [
    "_, _, data = next(test_iter)\n",
    "images = data[0]\n",
    "# masks = data[1] * exp_param.rec_loss_multiplier\n",
    "masks = data[1]  # TODO: Test that this works! (currently 'exp_param.rec_loss_multiplier' is multiplied twice'\n",
    "\n",
    "# TODO: Test should use hard sample\n",
    "[img, mask] = sess.run([network.sum_img, network.mask_net], feed_dict={\n",
    "    network.raw_input: images,\n",
    "    network.mask_in: masks,\n",
    "    network.is_training: False\n",
    "})\n"
   ]
  },
  {
   "cell_type": "code",
   "execution_count": null,
   "metadata": {
    "collapsed": false
   },
   "outputs": [],
   "source": [
    "i = 5\n",
    "if np.random.randint(0,2) == 0:\n",
    "    mask = mask[:,::-1,:,:]\n",
    "plt.imshow(mask[i,:,:,0])\n",
    "np.unique(mask[i,:,:,0])\n"
   ]
  },
  {
   "cell_type": "code",
   "execution_count": null,
   "metadata": {
    "collapsed": false,
    "scrolled": false
   },
   "outputs": [],
   "source": [
    "from IPython.display import clear_output\n",
    "\n",
    "for i in range(images.shape[0]):\n",
    "# for i in range(5):\n",
    "    plt.figure(figsize=(8,8))\n",
    "    plt.imshow(img[i])\n",
    "    file_name = 'breakout_render_{:05d}.png'.format(i)\n",
    "    plt.title(file_name)\n",
    "    plt.savefig('./media/images/' + file_name)\n",
    "    clear_output(wait=True)\n",
    "    plt.show()\n",
    "    "
   ]
  },
  {
   "cell_type": "code",
   "execution_count": null,
   "metadata": {
    "collapsed": false,
    "scrolled": false
   },
   "outputs": [],
   "source": [
    "## https://stackoverflow.com/questions/41228209/making-gif-from-images-using-imageio-in-python/45258744\n",
    "import os\n",
    "import imageio\n",
    "\n",
    "png_dir = './media/images'\n",
    "images_for_gif = []\n",
    "for file_name in os.listdir(png_dir):\n",
    "    print(file_name)\n",
    "    if file_name.endswith('.png'):\n",
    "        file_path = os.path.join(png_dir, file_name)\n",
    "        images_for_gif.append(imageio.imread(file_path))\n",
    "        \n",
    "imageio.mimsave('./media/gif/vision_model.gif', images_for_gif)\n"
   ]
  },
  {
   "cell_type": "code",
   "execution_count": null,
   "metadata": {
    "collapsed": true
   },
   "outputs": [],
   "source": []
  }
 ],
 "metadata": {
  "kernelspec": {
   "display_name": "Python [default]",
   "language": "python",
   "name": "python3"
  },
  "language_info": {
   "codemirror_mode": {
    "name": "ipython",
    "version": 3
   },
   "file_extension": ".py",
   "mimetype": "text/x-python",
   "name": "python",
   "nbconvert_exporter": "python",
   "pygments_lexer": "ipython3",
   "version": "3.5.5"
  }
 },
 "nbformat": 4,
 "nbformat_minor": 2
}
